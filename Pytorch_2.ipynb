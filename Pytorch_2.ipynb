{
  "nbformat": 4,
  "nbformat_minor": 0,
  "metadata": {
    "colab": {
      "provenance": [],
      "gpuType": "T4"
    },
    "kernelspec": {
      "name": "python3",
      "display_name": "Python 3"
    },
    "language_info": {
      "name": "python"
    },
    "accelerator": "GPU"
  },
  "cells": [
    {
      "cell_type": "code",
      "execution_count": 1,
      "metadata": {
        "colab": {
          "base_uri": "https://localhost:8080/",
          "height": 36
        },
        "id": "3UsknlmtE_j9",
        "outputId": "cf4dad83-b836-45fb-a306-9b2d118ccc53"
      },
      "outputs": [
        {
          "output_type": "execute_result",
          "data": {
            "text/plain": [
              "'2.4.0+cu121'"
            ],
            "application/vnd.google.colaboratory.intrinsic+json": {
              "type": "string"
            }
          },
          "metadata": {},
          "execution_count": 1
        }
      ],
      "source": [
        "import torch\n",
        "from torch import nn## nn contain pytorch all building blocks for a neural network\n",
        "import matplotlib.pyplot as plt\n",
        "\n",
        "#check pytorch version\n",
        "torch.__version__"
      ]
    },
    {
      "cell_type": "code",
      "source": [],
      "metadata": {
        "id": "bCaGatpVGLHW"
      },
      "execution_count": 1,
      "outputs": []
    },
    {
      "cell_type": "markdown",
      "source": [
        "# Data Preparation\n",
        "### Data can be anything\n",
        "* Image of any kind\n",
        "* videos\n",
        "* Audio like songs\n",
        "* Text\n",
        "* DNA"
      ],
      "metadata": {
        "id": "kt-jwqsMGSBB"
      }
    },
    {
      "cell_type": "code",
      "source": [
        "weights=0.7\n",
        "bias=0.3\n",
        "start=0\n",
        "end=1\n",
        "step=0.02\n",
        "X=torch.arange(start,end,step)#.unsqueeze(dim=1)\n",
        "y=weights*X+bias\n",
        "X[:10],y[:10]"
      ],
      "metadata": {
        "colab": {
          "base_uri": "https://localhost:8080/"
        },
        "id": "uKomHqpRGnuK",
        "outputId": "001f1edf-b28d-4a0f-aff7-316a928c3583"
      },
      "execution_count": 2,
      "outputs": [
        {
          "output_type": "execute_result",
          "data": {
            "text/plain": [
              "(tensor([0.0000, 0.0200, 0.0400, 0.0600, 0.0800, 0.1000, 0.1200, 0.1400, 0.1600,\n",
              "         0.1800]),\n",
              " tensor([0.3000, 0.3140, 0.3280, 0.3420, 0.3560, 0.3700, 0.3840, 0.3980, 0.4120,\n",
              "         0.4260]))"
            ]
          },
          "metadata": {},
          "execution_count": 2
        }
      ]
    },
    {
      "cell_type": "code",
      "source": [
        "## Spliting data\n",
        "train_split=int(0.8*len(X))\n",
        "X_train,y_train=X[:train_split],y[:train_split]\n",
        "X_test,y_test=X[train_split:],y[train_split:]\n",
        "len(X_train),len(y_train),len(X_test),len(y_test)"
      ],
      "metadata": {
        "colab": {
          "base_uri": "https://localhost:8080/"
        },
        "id": "YElKOiC0HTtG",
        "outputId": "6a9a6016-663d-42c9-edcf-b3df5e426e13"
      },
      "execution_count": 3,
      "outputs": [
        {
          "output_type": "execute_result",
          "data": {
            "text/plain": [
              "(40, 40, 10, 10)"
            ]
          },
          "metadata": {},
          "execution_count": 3
        }
      ]
    },
    {
      "cell_type": "code",
      "source": [
        "def plot_predictions(train_data=X_train,\n",
        "                    train_labels=y_train,\n",
        "                    test_data=X_test,\n",
        "                    test_labels=y_test,\n",
        "                    predictions=None):\n",
        "  plt.figure(figsize=(10,7))\n",
        "  plt.scatter(train_data,train_labels,c=\"r\",s=4,label=\"Training data\")\n",
        "  plt.scatter(test_data,test_labels,c=\"y\",s=4,label=\"Testing data\")\n",
        "  if predictions is not None:\n",
        "    plt.scatter(test_data,predictions,c=\"g\",s=4,label=\"Predictions\")\n",
        "  plt.legend(prop={\"size\":14})"
      ],
      "metadata": {
        "id": "FHFjZJlXISf0"
      },
      "execution_count": 31,
      "outputs": []
    },
    {
      "cell_type": "code",
      "source": [
        "plot_predictions()"
      ],
      "metadata": {
        "colab": {
          "base_uri": "https://localhost:8080/",
          "height": 529
        },
        "id": "7yaf-1dAJW7P",
        "outputId": "78a3a55d-3e85-450b-e5ff-08f2366c2ff0"
      },
      "execution_count": 5,
      "outputs": [
        {
          "output_type": "display_data",
          "data": {
            "text/plain": [
              "<Figure size 1000x700 with 1 Axes>"
            ],
            "image/png": "[encoded data removed]"
          },
          "metadata": {}
        }
      ]
    },
    {
      "cell_type": "code",
      "source": [],
      "metadata": {
        "id": "sbco-un2JaZL"
      },
      "execution_count": 5,
      "outputs": []
    },
    {
      "cell_type": "markdown",
      "source": [
        "# Build Model\n",
        "Our pytorch model"
      ],
      "metadata": {
        "id": "9El69_hVKAmQ"
      }
    },
    {
      "cell_type": "code",
      "source": [
        "## Linear Regression\n",
        "class LinearRegression(nn.Module):## inherit from nn.module\n",
        "  def __init__(self):\n",
        "    super().__init__()\n",
        "    self.weights=nn.Parameter(torch.rand(1,requires_grad=True,dtype=torch.float))\n",
        "    self.bias=nn.Parameter(torch.rand(1,requires_grad=True,dtype=torch.float))\n",
        "  def forward(self,x:torch.Tensor)->torch.Tensor:\n",
        "    return self.weights*x+self.bias\n"
      ],
      "metadata": {
        "id": "5TKP-KAeKGIU"
      },
      "execution_count": 6,
      "outputs": []
    },
    {
      "cell_type": "code",
      "source": [
        "torch.manual_seed(42)\n",
        "model_0=LinearRegression()\n",
        "list(model_0.parameters())"
      ],
      "metadata": {
        "colab": {
          "base_uri": "https://localhost:8080/"
        },
        "id": "_yLRj6BNP-t0",
        "outputId": "dd8cc23c-8062-4cbb-f1ab-1236cb8372e4"
      },
      "execution_count": 7,
      "outputs": [
        {
          "output_type": "execute_result",
          "data": {
            "text/plain": [
              "[Parameter containing:\n",
              " tensor([0.8823], requires_grad=True),\n",
              " Parameter containing:\n",
              " tensor([0.9150], requires_grad=True)]"
            ]
          },
          "metadata": {},
          "execution_count": 7
        }
      ]
    },
    {
      "cell_type": "code",
      "source": [
        "model_0.state_dict()"
      ],
      "metadata": {
        "colab": {
          "base_uri": "https://localhost:8080/"
        },
        "id": "CAm9LC62SP05",
        "outputId": "56be9eb7-f7f2-47db-f245-b28e6acbb49e"
      },
      "execution_count": 8,
      "outputs": [
        {
          "output_type": "execute_result",
          "data": {
            "text/plain": [
              "OrderedDict([('weights', tensor([0.8823])), ('bias', tensor([0.9150]))])"
            ]
          },
          "metadata": {},
          "execution_count": 8
        }
      ]
    },
    {
      "cell_type": "code",
      "source": [
        "##Make predictions\n",
        "with torch.inference_mode():#use during making predictions\n",
        "  y_preds=model_0(X_test)\n",
        "y_preds"
      ],
      "metadata": {
        "colab": {
          "base_uri": "https://localhost:8080/"
        },
        "id": "rcwYchY4SzoB",
        "outputId": "aa1ea1b2-cdf0-471f-a4b9-0086c349fa7b"
      },
      "execution_count": 9,
      "outputs": [
        {
          "output_type": "execute_result",
          "data": {
            "text/plain": [
              "tensor([1.6208, 1.6385, 1.6561, 1.6738, 1.6914, 1.7090, 1.7267, 1.7443, 1.7620,\n",
              "        1.7796])"
            ]
          },
          "metadata": {},
          "execution_count": 9
        }
      ]
    },
    {
      "cell_type": "code",
      "source": [
        "plot_predictions(predictions=y_preds)"
      ],
      "metadata": {
        "colab": {
          "base_uri": "https://localhost:8080/",
          "height": 529
        },
        "id": "E3IDjd83TIvp",
        "outputId": "798aac46-460d-4625-c7fb-a5f0e22853cf"
      },
      "execution_count": 10,
      "outputs": [
        {
          "output_type": "display_data",
          "data": {
            "text/plain": [
              "<Figure size 1000x700 with 1 Axes>"
            ],
            "image/png": "[encoded data removed]"
          },
          "metadata": {}
        }
      ]
    },
    {
      "cell_type": "code",
      "source": [
        "##Loss function\n",
        "loss_fn=nn.L1Loss()\n",
        "loss=loss_fn(y_preds,y_test)\n",
        "optimizer=torch.optim.SGD(params=model_0.parameters(),lr=0.01)"
      ],
      "metadata": {
        "id": "syfiNPN8Toep"
      },
      "execution_count": 11,
      "outputs": []
    },
    {
      "cell_type": "code",
      "source": [
        "##Training loop and testing loop\n",
        "epochs=20\n",
        "epoch_count=[]\n",
        "loss_values=[]\n",
        "test_loss_values=[]\n",
        "for epoch in range(epochs):\n",
        "  model_0.train()## Set up training mode\n",
        "  y_pred=model_0(X_train)\n",
        "  loss=loss_fn(y_pred,y_train)\n",
        "  print(f\"Loss {loss:.4f} for epoch {epoch}\")\n",
        "  optimizer.zero_grad()\n",
        "  loss.backward()\n",
        "  optimizer.step()\n",
        "  model_0.eval()## Set up testing mode\n",
        "  with torch.inference_mode():\n",
        "    epoch_count.append(epoch)\n",
        "    loss_values.append(loss)\n",
        "\n",
        "    test_pred=model_0(X_test)\n",
        "    test_loss=loss_fn(test_pred,y_test)\n",
        "    test_loss_values.append(test_loss)\n",
        "    print(f\"Test loss {test_loss:.2f} for epoch {epoch}\")\n",
        ""
      ],
      "metadata": {
        "colab": {
          "base_uri": "https://localhost:8080/"
        },
        "id": "LWNN2VqWXtNv",
        "outputId": "9b2b5c80-67e6-4834-99a8-6d007a3f0396"
      },
      "execution_count": 34,
      "outputs": [
        {
          "output_type": "stream",
          "name": "stdout",
          "text": [
            "Loss 0.0071 for epoch 0\n",
            "Test loss 0.01 for epoch 0\n",
            "Loss 0.0044 for epoch 1\n",
            "Test loss 0.01 for epoch 1\n",
            "Loss 0.0071 for epoch 2\n",
            "Test loss 0.01 for epoch 2\n",
            "Loss 0.0044 for epoch 3\n",
            "Test loss 0.01 for epoch 3\n",
            "Loss 0.0071 for epoch 4\n",
            "Test loss 0.01 for epoch 4\n",
            "Loss 0.0044 for epoch 5\n",
            "Test loss 0.01 for epoch 5\n",
            "Loss 0.0071 for epoch 6\n",
            "Test loss 0.01 for epoch 6\n",
            "Loss 0.0044 for epoch 7\n",
            "Test loss 0.01 for epoch 7\n",
            "Loss 0.0071 for epoch 8\n",
            "Test loss 0.01 for epoch 8\n",
            "Loss 0.0044 for epoch 9\n",
            "Test loss 0.01 for epoch 9\n",
            "Loss 0.0071 for epoch 10\n",
            "Test loss 0.01 for epoch 10\n",
            "Loss 0.0044 for epoch 11\n",
            "Test loss 0.01 for epoch 11\n",
            "Loss 0.0071 for epoch 12\n",
            "Test loss 0.01 for epoch 12\n",
            "Loss 0.0044 for epoch 13\n",
            "Test loss 0.01 for epoch 13\n",
            "Loss 0.0071 for epoch 14\n",
            "Test loss 0.01 for epoch 14\n",
            "Loss 0.0044 for epoch 15\n",
            "Test loss 0.01 for epoch 15\n",
            "Loss 0.0071 for epoch 16\n",
            "Test loss 0.01 for epoch 16\n",
            "Loss 0.0044 for epoch 17\n",
            "Test loss 0.01 for epoch 17\n",
            "Loss 0.0071 for epoch 18\n",
            "Test loss 0.01 for epoch 18\n",
            "Loss 0.0044 for epoch 19\n",
            "Test loss 0.01 for epoch 19\n"
          ]
        }
      ]
    },
    {
      "cell_type": "code",
      "source": [
        "model_0.state_dict()"
      ],
      "metadata": {
        "colab": {
          "base_uri": "https://localhost:8080/"
        },
        "id": "UxOqjk7OY9kv",
        "outputId": "742ad461-10e8-44e2-de9c-cb5e8b5d032f"
      },
      "execution_count": 24,
      "outputs": [
        {
          "output_type": "execute_result",
          "data": {
            "text/plain": [
              "OrderedDict([('weights', tensor([0.6977])), ('bias', tensor([0.3080]))])"
            ]
          },
          "metadata": {},
          "execution_count": 24
        }
      ]
    },
    {
      "cell_type": "code",
      "source": [
        "##Make predictions\n",
        "with torch.inference_mode():#use during making predictions\n",
        "  y_preds=model_0(X_test)\n",
        "y_preds"
      ],
      "metadata": {
        "colab": {
          "base_uri": "https://localhost:8080/"
        },
        "id": "qIBGyLTSagX0",
        "outputId": "7b93f4bf-1f83-43b6-db5c-4700ec7df504"
      },
      "execution_count": 25,
      "outputs": [
        {
          "output_type": "execute_result",
          "data": {
            "text/plain": [
              "tensor([0.8661, 0.8801, 0.8940, 0.9080, 0.9220, 0.9359, 0.9499, 0.9638, 0.9778,\n",
              "        0.9917])"
            ]
          },
          "metadata": {},
          "execution_count": 25
        }
      ]
    },
    {
      "cell_type": "code",
      "source": [
        "plot_predictions(predictions=y_preds)"
      ],
      "metadata": {
        "colab": {
          "base_uri": "https://localhost:8080/",
          "height": 529
        },
        "id": "ffnUVV8Oanjd",
        "outputId": "0cc67bcb-7910-4978-cfe5-28fb6f56e1af"
      },
      "execution_count": 26,
      "outputs": [
        {
          "output_type": "display_data",
          "data": {
            "text/plain": [
              "<Figure size 1000x700 with 1 Axes>"
            ],
            "image/png": "[encoded data removed]"
          },
          "metadata": {}
        }
      ]
    },
    {
      "cell_type": "code",
      "source": [],
      "metadata": {
        "id": "aPGJg5XugU0z"
      },
      "execution_count": null,
      "outputs": []
    },
    {
      "cell_type": "markdown",
      "source": [
        "# Save model in pytorch"
      ],
      "metadata": {
        "id": "FLN0mKWZhjzZ"
      }
    },
    {
      "cell_type": "code",
      "source": [
        "# saving model\n",
        "from pathlib import Path\n",
        "model_path=Path(\"models\")\n",
        "model_path.mkdir(parents=True,exist_ok=True)\n",
        "model_name='model.pth'\n",
        "model_save_path=model_path/model_name\n",
        "torch.save(obj=model_0.state_dict(),f=model_save_path)\n"
      ],
      "metadata": {
        "id": "Eaqy9L8Xhoi0"
      },
      "execution_count": 36,
      "outputs": []
    },
    {
      "cell_type": "code",
      "source": [
        "##Load model\n",
        "loaded_model=LinearRegression()\n",
        "loaded_model.load_state_dict(torch.load(f=model_save_path))"
      ],
      "metadata": {
        "colab": {
          "base_uri": "https://localhost:8080/"
        },
        "id": "uBVIlxvkizrU",
        "outputId": "6d3a25d8-6aae-43e0-e557-951a8d7da310"
      },
      "execution_count": 37,
      "outputs": [
        {
          "output_type": "stream",
          "name": "stderr",
          "text": [
            "<ipython-input-37-0ae429bab922>:3: FutureWarning: You are using `torch.load` with `weights_only=False` (the current default value), which uses the default pickle module implicitly. It is possible to construct malicious pickle data which will execute arbitrary code during unpickling (See https://github.com/pytorch/pytorch/blob/main/SECURITY.md#untrusted-models for more details). In a future release, the default value for `weights_only` will be flipped to `True`. This limits the functions that could be executed during unpickling. Arbitrary objects will no longer be allowed to be loaded via this mode unless they are explicitly allowlisted by the user via `torch.serialization.add_safe_globals`. We recommend you start setting `weights_only=True` for any use case where you don't have full control of the loaded file. Please open an issue on GitHub for any issues related to this experimental feature.\n",
            "  loaded_model.load_state_dict(torch.load(f=model_save_path))\n"
          ]
        },
        {
          "output_type": "execute_result",
          "data": {
            "text/plain": [
              "<All keys matched successfully>"
            ]
          },
          "metadata": {},
          "execution_count": 37
        }
      ]
    },
    {
      "cell_type": "code",
      "source": [
        "#make prediction\n",
        "loaded_model.eval()\n",
        "with torch.inference_mode():\n",
        "  loaded_model_preds=loaded_model(X_test)\n",
        "loaded_model_preds"
      ],
      "metadata": {
        "colab": {
          "base_uri": "https://localhost:8080/"
        },
        "id": "X1bI5GzmlDtx",
        "outputId": "3bbbbd6a-b96b-4899-e6b4-567b3c309f12"
      },
      "execution_count": 38,
      "outputs": [
        {
          "output_type": "execute_result",
          "data": {
            "text/plain": [
              "tensor([0.8661, 0.8801, 0.8940, 0.9080, 0.9220, 0.9359, 0.9499, 0.9638, 0.9778,\n",
              "        0.9917])"
            ]
          },
          "metadata": {},
          "execution_count": 38
        }
      ]
    },
    {
      "cell_type": "code",
      "source": [],
      "metadata": {
        "id": "j4N4fm1ymPGd"
      },
      "execution_count": null,
      "outputs": []
    },
    {
      "cell_type": "markdown",
      "source": [
        "# All together"
      ],
      "metadata": {
        "id": "kIxspAaKmjw_"
      }
    },
    {
      "cell_type": "code",
      "source": [
        "import torch\n",
        "from torch import nn\n",
        "import matplotlib.pyplot as plt\n",
        "torch.__version__"
      ],
      "metadata": {
        "colab": {
          "base_uri": "https://localhost:8080/",
          "height": 36
        },
        "id": "okN0qjaYml6F",
        "outputId": "6db6620e-2000-48a4-c503-13c397662397"
      },
      "execution_count": 49,
      "outputs": [
        {
          "output_type": "execute_result",
          "data": {
            "text/plain": [
              "'2.4.0+cu121'"
            ],
            "application/vnd.google.colaboratory.intrinsic+json": {
              "type": "string"
            }
          },
          "metadata": {},
          "execution_count": 49
        }
      ]
    },
    {
      "cell_type": "code",
      "source": [
        "## Device agnostic code\n",
        "device=\"cuda\" if torch.cuda.is_available() else \"cpu\"\n",
        "device"
      ],
      "metadata": {
        "colab": {
          "base_uri": "https://localhost:8080/",
          "height": 36
        },
        "id": "T8X630Dhm6En",
        "outputId": "f32e9ad9-0ff4-47d9-e976-a9120e1c0dff"
      },
      "execution_count": 50,
      "outputs": [
        {
          "output_type": "execute_result",
          "data": {
            "text/plain": [
              "'cuda'"
            ],
            "application/vnd.google.colaboratory.intrinsic+json": {
              "type": "string"
            }
          },
          "metadata": {},
          "execution_count": 50
        }
      ]
    },
    {
      "cell_type": "code",
      "source": [
        "## Create data\n",
        "weights=0.7\n",
        "bias=0.3\n",
        "\n",
        "start=0\n",
        "end=1\n",
        "step=0.02\n",
        "X=torch.arange(start,end,step).unsqueeze(dim=1)\n",
        "y=weights*X+bias"
      ],
      "metadata": {
        "id": "jOdMuMo9mx4t"
      },
      "execution_count": 51,
      "outputs": []
    },
    {
      "cell_type": "code",
      "source": [
        "##split data\n",
        "train_split=int(0.8*len(X))\n",
        "X_train,y_train=X[:train_split],y[:train_split]\n",
        "X_test,y_test=X[train_split:],y[train_split:]\n",
        "X_train.shape,y_train.shape,X_test.shape,y_test.shape"
      ],
      "metadata": {
        "colab": {
          "base_uri": "https://localhost:8080/"
        },
        "id": "2gtcv7gqnfyS",
        "outputId": "5b008247-af53-4efb-e2c9-56a499d213e2"
      },
      "execution_count": 52,
      "outputs": [
        {
          "output_type": "execute_result",
          "data": {
            "text/plain": [
              "(torch.Size([40, 1]),\n",
              " torch.Size([40, 1]),\n",
              " torch.Size([10, 1]),\n",
              " torch.Size([10, 1]))"
            ]
          },
          "metadata": {},
          "execution_count": 52
        }
      ]
    },
    {
      "cell_type": "code",
      "source": [
        "import torch\n",
        "from torch import nn\n",
        "\n",
        "class LinearRegression(nn.Module):\n",
        "  def __init__(self):\n",
        "    super().__init__()\n",
        "    self.linear_layer=nn.Linear(in_features=1, out_features=1)\n",
        "  def forward(self,x:torch.Tensor)->torch.Tensor:\n",
        "    return self.linear_layer(x)"
      ],
      "metadata": {
        "id": "MBHXn0a6qFSy"
      },
      "execution_count": 53,
      "outputs": []
    },
    {
      "cell_type": "code",
      "source": [
        "torch.manual_seed(42)\n",
        "model_0=LinearRegression()\n",
        "print(model_0.state_dict())\n",
        "model_0.to(device)"
      ],
      "metadata": {
        "colab": {
          "base_uri": "https://localhost:8080/"
        },
        "id": "mFhVwdPHuxRn",
        "outputId": "3a5cd557-0631-49c9-81d5-22854c60eda1"
      },
      "execution_count": 54,
      "outputs": [
        {
          "output_type": "stream",
          "name": "stdout",
          "text": [
            "OrderedDict([('linear_layer.weight', tensor([[0.7645]])), ('linear_layer.bias', tensor([0.8300]))])\n"
          ]
        },
        {
          "output_type": "execute_result",
          "data": {
            "text/plain": [
              "LinearRegression(\n",
              "  (linear_layer): Linear(in_features=1, out_features=1, bias=True)\n",
              ")"
            ]
          },
          "metadata": {},
          "execution_count": 54
        }
      ]
    },
    {
      "cell_type": "code",
      "source": [
        "torch.manual_seed(42)\n",
        "loss_fn=nn.L1Loss()\n",
        "X_train=X_train.to(device)\n",
        "y_train=y_train.to(device)\n",
        "X_test=X_test.to(device)\n",
        "y_test=y_test.to(device)\n",
        "optimizer=torch.optim.SGD(params=model_0.parameters(),lr=0.01)\n",
        "epochs=200\n",
        "for epoch in range(epochs):\n",
        "  model_0.train()\n",
        "  y_pred=model_0(X_train)\n",
        "  loss=loss_fn(y_pred,y_train)\n",
        "  optimizer.zero_grad()\n",
        "  loss.backward()\n",
        "  optimizer.step()\n",
        "  model_0.eval()\n",
        "  with torch.inference_mode():\n",
        "    test_pred=model_0(X_test)\n",
        "    test_loss=loss_fn(test_pred,y_test)\n",
        "  if epoch%10==0:\n",
        "    print(f\"Epoch {epoch} loss {loss:.4f} test loss {test_loss:.4f}\")"
      ],
      "metadata": {
        "colab": {
          "base_uri": "https://localhost:8080/"
        },
        "id": "Cn7L_pv0w1HF",
        "outputId": "a2629ba0-347d-422e-d9ea-4310556e734e"
      },
      "execution_count": 55,
      "outputs": [
        {
          "output_type": "stream",
          "name": "stdout",
          "text": [
            "Epoch 0 loss 0.5552 test loss 0.5740\n",
            "Epoch 10 loss 0.4400 test loss 0.4393\n",
            "Epoch 20 loss 0.3248 test loss 0.3046\n",
            "Epoch 30 loss 0.2095 test loss 0.1698\n",
            "Epoch 40 loss 0.0943 test loss 0.0351\n",
            "Epoch 50 loss 0.0239 test loss 0.0478\n",
            "Epoch 60 loss 0.0200 test loss 0.0458\n",
            "Epoch 70 loss 0.0165 test loss 0.0375\n",
            "Epoch 80 loss 0.0131 test loss 0.0299\n",
            "Epoch 90 loss 0.0097 test loss 0.0217\n",
            "Epoch 100 loss 0.0062 test loss 0.0141\n",
            "Epoch 110 loss 0.0028 test loss 0.0058\n",
            "Epoch 120 loss 0.0013 test loss 0.0138\n",
            "Epoch 130 loss 0.0013 test loss 0.0138\n",
            "Epoch 140 loss 0.0013 test loss 0.0138\n",
            "Epoch 150 loss 0.0013 test loss 0.0138\n",
            "Epoch 160 loss 0.0013 test loss 0.0138\n",
            "Epoch 170 loss 0.0013 test loss 0.0138\n",
            "Epoch 180 loss 0.0013 test loss 0.0138\n",
            "Epoch 190 loss 0.0013 test loss 0.0138\n"
          ]
        }
      ]
    },
    {
      "cell_type": "code",
      "source": [
        "model_0.state_dict()"
      ],
      "metadata": {
        "colab": {
          "base_uri": "https://localhost:8080/"
        },
        "id": "kh3oEpkEzCn2",
        "outputId": "2fe46063-3931-4a48-ad59-1f97d87acbb5"
      },
      "execution_count": 56,
      "outputs": [
        {
          "output_type": "execute_result",
          "data": {
            "text/plain": [
              "OrderedDict([('linear_layer.weight', tensor([[0.6968]], device='cuda:0')),\n",
              "             ('linear_layer.bias', tensor([0.3025], device='cuda:0'))])"
            ]
          },
          "metadata": {},
          "execution_count": 56
        }
      ]
    },
    {
      "cell_type": "code",
      "source": [
        "model_0.eval()\n",
        "with torch.inference_mode():\n",
        "  y_preds=model_0(X_test)\n",
        "y_preds"
      ],
      "metadata": {
        "colab": {
          "base_uri": "https://localhost:8080/"
        },
        "id": "Lcl0L_BpzozD",
        "outputId": "d90d639f-9585-48a1-ca77-23b16ea4961e"
      },
      "execution_count": 57,
      "outputs": [
        {
          "output_type": "execute_result",
          "data": {
            "text/plain": [
              "tensor([[0.8600],\n",
              "        [0.8739],\n",
              "        [0.8878],\n",
              "        [0.9018],\n",
              "        [0.9157],\n",
              "        [0.9296],\n",
              "        [0.9436],\n",
              "        [0.9575],\n",
              "        [0.9714],\n",
              "        [0.9854]], device='cuda:0')"
            ]
          },
          "metadata": {},
          "execution_count": 57
        }
      ]
    },
    {
      "cell_type": "code",
      "source": [
        "import torch\n",
        "import matplotlib.pyplot as plt\n",
        "\n",
        "def plot_predictions(train_data, train_labels, test_data, test_labels, predictions=None):\n",
        "    \"\"\"\n",
        "    Plot training data, testing data, and predictions.\n",
        "\n",
        "    Args:\n",
        "        train_data (numpy.ndarray): Features of the training data.\n",
        "        train_labels (numpy.ndarray): Labels of the training data.\n",
        "        test_data (numpy.ndarray): Features of the testing data.\n",
        "        test_labels (numpy.ndarray): Labels of the testing data.\n",
        "        predictions (numpy.ndarray, optional): Predicted values for the testing data.\n",
        "    \"\"\"\n",
        "    plt.figure(figsize=(10, 7))\n",
        "    plt.scatter(train_data, train_labels, c=\"r\", s=4, label=\"Training data\")\n",
        "    plt.scatter(test_data, test_labels, c=\"y\", s=4, label=\"Testing data\")\n",
        "\n",
        "    if predictions is not None:\n",
        "        plt.scatter(test_data, predictions, c=\"g\", s=4, label=\"Predictions\")\n",
        "\n",
        "    plt.xlabel('Feature')\n",
        "    plt.ylabel('Target')\n",
        "    plt.title('Data and Predictions')\n",
        "    plt.legend(prop={\"size\": 14})\n",
        "    plt.show()\n",
        "\n",
        "def move_to_cpu_and_convert(tensor):\n",
        "    \"\"\"\n",
        "    Move tensor to CPU and convert it to a NumPy array.\n",
        "\n",
        "    Args:\n",
        "        tensor (torch.Tensor): Tensor to be moved to CPU and converted.\n",
        "\n",
        "    Returns:\n",
        "        numpy.ndarray: Converted NumPy array.\n",
        "    \"\"\"\n",
        "    return tensor.cpu().detach().numpy()\n",
        "# Move tensors to CPU and convert to NumPy\n",
        "X_train_np = move_to_cpu_and_convert(X_train)\n",
        "y_train_np = move_to_cpu_and_convert(y_train)\n",
        "X_test_np = move_to_cpu_and_convert(X_test)\n",
        "y_test_np = move_to_cpu_and_convert(y_test)\n",
        "y_preds_np = move_to_cpu_and_convert(y_preds)\n",
        "\n",
        "# Flatten arrays if necessary\n",
        "X_train_np = X_train_np.flatten()\n",
        "X_test_np = X_test_np.flatten()\n",
        "\n",
        "# Plot predictions\n",
        "plot_predictions(train_data=X_train_np,\n",
        "                  train_labels=y_train_np,\n",
        "                  test_data=X_test_np,\n",
        "                  test_labels=y_test_np,\n",
        "                  predictions=y_preds_np)\n"
      ],
      "metadata": {
        "colab": {
          "base_uri": "https://localhost:8080/",
          "height": 553
        },
        "id": "wu6iBAc300ar",
        "outputId": "c1bc7e46-4aa6-4021-de75-24c94eeec8c7"
      },
      "execution_count": 58,
      "outputs": [
        {
          "output_type": "display_data",
          "data": {
            "text/plain": [
              "<Figure size 1000x700 with 1 Axes>"
            ],
            "image/png": "[encoded data removed]"
          },
          "metadata": {}
        }
      ]
    },
    {
      "cell_type": "code",
      "source": [
        "## Saving model\n",
        "from pathlib import Path\n",
        "MODEL_PATH=Path(\"models\")\n",
        "MODEL_PATH.mkdir(parents=True,exist_ok=True)\n",
        "MODEL_NAME=\"model.pth\"\n",
        "MODEL_SAVE_PATH=MODEL_PATH/MODEL_NAME\n",
        "torch.save(obj=model_0.state_dict(),f=MODEL_SAVE_PATH)"
      ],
      "metadata": {
        "id": "WUwXHxEd1BOg"
      },
      "execution_count": 59,
      "outputs": []
    },
    {
      "cell_type": "code",
      "source": [
        "model_0.state_dict()"
      ],
      "metadata": {
        "colab": {
          "base_uri": "https://localhost:8080/"
        },
        "id": "OJ2beUeK2vON",
        "outputId": "f449d91b-fab1-4b7a-aa8b-712e0cb03642"
      },
      "execution_count": 60,
      "outputs": [
        {
          "output_type": "execute_result",
          "data": {
            "text/plain": [
              "OrderedDict([('linear_layer.weight', tensor([[0.6968]], device='cuda:0')),\n",
              "             ('linear_layer.bias', tensor([0.3025], device='cuda:0'))])"
            ]
          },
          "metadata": {},
          "execution_count": 60
        }
      ]
    },
    {
      "cell_type": "code",
      "source": [
        "loaded_model=LinearRegression()\n",
        "loaded_model.load_state_dict(torch.load(f=MODEL_SAVE_PATH))"
      ],
      "metadata": {
        "colab": {
          "base_uri": "https://localhost:8080/"
        },
        "id": "u7_q9fyg20YK",
        "outputId": "fd64848d-2f40-4bca-f7f5-52957d310c42"
      },
      "execution_count": 61,
      "outputs": [
        {
          "output_type": "stream",
          "name": "stderr",
          "text": [
            "<ipython-input-61-2ba701fa5d16>:2: FutureWarning: You are using `torch.load` with `weights_only=False` (the current default value), which uses the default pickle module implicitly. It is possible to construct malicious pickle data which will execute arbitrary code during unpickling (See https://github.com/pytorch/pytorch/blob/main/SECURITY.md#untrusted-models for more details). In a future release, the default value for `weights_only` will be flipped to `True`. This limits the functions that could be executed during unpickling. Arbitrary objects will no longer be allowed to be loaded via this mode unless they are explicitly allowlisted by the user via `torch.serialization.add_safe_globals`. We recommend you start setting `weights_only=True` for any use case where you don't have full control of the loaded file. Please open an issue on GitHub for any issues related to this experimental feature.\n",
            "  loaded_model.load_state_dict(torch.load(f=MODEL_SAVE_PATH))\n"
          ]
        },
        {
          "output_type": "execute_result",
          "data": {
            "text/plain": [
              "<All keys matched successfully>"
            ]
          },
          "metadata": {},
          "execution_count": 61
        }
      ]
    },
    {
      "cell_type": "code",
      "source": [
        "loaded_model.state_dict()"
      ],
      "metadata": {
        "colab": {
          "base_uri": "https://localhost:8080/"
        },
        "id": "-M1q54cr28_D",
        "outputId": "31745bf1-4cfd-426d-983b-143aa7cc0692"
      },
      "execution_count": 62,
      "outputs": [
        {
          "output_type": "execute_result",
          "data": {
            "text/plain": [
              "OrderedDict([('linear_layer.weight', tensor([[0.6968]])),\n",
              "             ('linear_layer.bias', tensor([0.3025]))])"
            ]
          },
          "metadata": {},
          "execution_count": 62
        }
      ]
    },
    {
      "cell_type": "code",
      "source": [
        "loaded_model.to(device)\n",
        "with torch.inference_mode():\n",
        "  loaded_model_preds=loaded_model(X_test.to(device))\n",
        "loaded_model_preds"
      ],
      "metadata": {
        "colab": {
          "base_uri": "https://localhost:8080/"
        },
        "id": "1FuvkEAv3Alh",
        "outputId": "fd05c306-22db-4f44-8fcb-93cb75ad9491"
      },
      "execution_count": 64,
      "outputs": [
        {
          "output_type": "execute_result",
          "data": {
            "text/plain": [
              "tensor([[0.8600],\n",
              "        [0.8739],\n",
              "        [0.8878],\n",
              "        [0.9018],\n",
              "        [0.9157],\n",
              "        [0.9296],\n",
              "        [0.9436],\n",
              "        [0.9575],\n",
              "        [0.9714],\n",
              "        [0.9854]], device='cuda:0')"
            ]
          },
          "metadata": {},
          "execution_count": 64
        }
      ]
    },
    {
      "cell_type": "code",
      "source": [
        "X_test"
      ],
      "metadata": {
        "colab": {
          "base_uri": "https://localhost:8080/"
        },
        "id": "aLamnaPH3D0s",
        "outputId": "11d4edda-b61c-43c0-a38b-857ca7d8d245"
      },
      "execution_count": 48,
      "outputs": [
        {
          "output_type": "execute_result",
          "data": {
            "text/plain": [
              "tensor([[0.8000],\n",
              "        [0.8200],\n",
              "        [0.8400],\n",
              "        [0.8600],\n",
              "        [0.8800],\n",
              "        [0.9000],\n",
              "        [0.9200],\n",
              "        [0.9400],\n",
              "        [0.9600],\n",
              "        [0.9800]], device='cuda:0')"
            ]
          },
          "metadata": {},
          "execution_count": 48
        }
      ]
    },
    {
      "cell_type": "code",
      "source": [],
      "metadata": {
        "id": "j1KExKVA3MBM"
      },
      "execution_count": null,
      "outputs": []
    }
  ]
}